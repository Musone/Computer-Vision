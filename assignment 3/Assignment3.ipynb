{
 "cells": [
  {
   "cell_type": "markdown",
   "metadata": {
    "id": "Xe9pxg4z2Lnb"
   },
   "source": [
    "# 1. Running Holefill.py"
   ]
  },
  {
   "cell_type": "markdown",
   "metadata": {
    "id": "Xe9pxg4z2Lnb"
   },
   "source": [
    "First copy the contents of assign_Notebook into the project directory. In order to run the Holefill.py from Jupyter notebook, execute the command below. It will print two figures inline: one containing the original image and the other showing the region to be filled and the texture region. You will be asked, \"Are you happy with this choice of fillRegion and textureIm?\". You should type \"Yes\" to proceeed. Finally, the script will print a figure of the image with the texture filled in. As this skeleton program is missing some critical routines, the texture will initially be filled in as all black."
   ]
  },
  {
   "cell_type": "code",
   "execution_count": null,
   "metadata": {
    "id": "EQtGHz9g4gSW"
   },
   "outputs": [],
   "source": [
    "%run Holefill.py"
   ]
  },
  {
   "cell_type": "markdown",
   "metadata": {},
   "source": [
    "# 2. Modify Holefill.py"
   ]
  },
  {
   "cell_type": "markdown",
   "metadata": {
    "id": "FLH81f1H5mcv"
   },
   "source": [
    "You need to modify the `ComputeSSD` function in `Holefill.py`, whose purpose is to compute the sum squared difference (SSD) between an image patch and the texture image for each possible location of the patch within the texture image.  This function must ignore empty pixels that have a value of `1` in the given mask image. <u>Please follow the hints provided on the assignment webpage for the complete instructions.</u>"
   ]
  },
  {
   "cell_type": "markdown",
   "metadata": {
    "id": "-cRcTD-j6FgN"
   },
   "source": [
    " For next part, you need to modify the function `CopyPatch` in the 'Holefill.py' that takes the SSD image created above and chooses randomly amongst the best matching patches to decide which patch to paste into the texture image at that point. Remember again that you should only copy pixel values into the hole section of the image. Existing pixel values should not be overwritten. Skeleton code for `CopyPatch` is provided in `Holefill.py`, along with comments explaining the arguments.\n",
    "\n",
    " Try running the 'Holefill.py' again with the modified code to see if hole-filling part is correctly implemented."
   ]
  },
  {
   "cell_type": "code",
   "execution_count": null,
   "metadata": {
    "id": "sUuHO27Z7CFB"
   },
   "outputs": [],
   "source": [
    "%run Holefill.py"
   ]
  },
  {
   "cell_type": "markdown",
   "metadata": {},
   "source": [
    "# 3. Custom fill and texture Regions"
   ]
  },
  {
   "cell_type": "markdown",
   "metadata": {
    "id": "XUGMXnTW7gEO"
   },
   "source": [
    "Now, you can select your own regions to fill or texture selection by running the polyselect.py function. To make interactive inline operations compatible with jupyter notebook, you need to first install `ipympl` using `pip install ipympl`. Then you need to enable the inline interactive operation by `%matplotlib ipympl` Finally execute the `polyselect.py` file using `%run polyselect.py`."
   ]
  },
  {
   "cell_type": "code",
   "execution_count": null,
   "metadata": {
    "id": "Ef9xBwaE-5SE"
   },
   "outputs": [],
   "source": [
    "pip install ipympl"
   ]
  },
  {
   "cell_type": "code",
   "execution_count": null,
   "metadata": {
    "id": "XbkZYoEc-_9c"
   },
   "outputs": [],
   "source": [
    "%matplotlib ipympl"
   ]
  },
  {
   "cell_type": "markdown",
   "metadata": {
    "id": "hcihXkdk_CyY"
   },
   "source": [
    "Now run the polyselect.py file. To draw a polygon you need to select each successive vertex with a  left-click. Simply right-click anywhere in the image to save the polygon. When you run the 'polyselect.py' file you will be prompted whether you want to draw polygon for fill region (type '0') or texture region (type '1'). Depending on what you choose the polyon will be saved in either 'fill_region.pkl' or 'texture_region.pkl' To run the polyselect execute the following:"
   ]
  },
  {
   "cell_type": "code",
   "execution_count": null,
   "metadata": {
    "id": "gHuYu-S0Amc7"
   },
   "outputs": [],
   "source": [
    "%run polyselect.py"
   ]
  }
 ],
 "metadata": {
  "colab": {
   "provenance": []
  },
  "kernelspec": {
   "display_name": "Python 3 (ipykernel)",
   "language": "python",
   "name": "python3"
  },
  "language_info": {
   "codemirror_mode": {
    "name": "ipython",
    "version": 3
   },
   "file_extension": ".py",
   "mimetype": "text/x-python",
   "name": "python",
   "nbconvert_exporter": "python",
   "pygments_lexer": "ipython3",
   "version": "3.11.1"
  }
 },
 "nbformat": 4,
 "nbformat_minor": 1
}
